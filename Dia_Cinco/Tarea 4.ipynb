{
 "cells": [
  {
   "cell_type": "markdown",
   "id": "98b32760",
   "metadata": {},
   "source": [
    "## Ejercicio 1"
   ]
  },
  {
   "cell_type": "code",
   "execution_count": 4,
   "id": "cc6db39e",
   "metadata": {},
   "outputs": [],
   "source": [
    "import matplotlib.pyplot as plt\n",
    "import numpy as np\n",
    "import statistics as sts"
   ]
  },
  {
   "cell_type": "code",
   "execution_count": 104,
   "id": "27016fd7",
   "metadata": {},
   "outputs": [
    {
     "name": "stdout",
     "output_type": "stream",
     "text": [
      "Peso máximo: 180\n",
      "Peso mínimo: 128\n",
      "Estudiantes con 125 o más peso: 50\n",
      "Estudiantes con 138 o menos peso: 13\n",
      "% de estudiantes con 129 <= x >= 146: 70.0 %\n"
     ]
    }
   ],
   "source": [
    "datos = np.array([159, 136, 180, 129, 162, 150, 129, 146, 128, 178, 144, 167, 132, 172, 156, 178, 129, 142,\n",
    "146, 159, 131, 135, 168, 152, 163, 145, 173, 147, 137, 143, 142, 133, 152, 166, 146, 131,\n",
    "131, 160, 162, 146, 151, 179, 146, 142, 172, 175, 166, 137, 162, 159])\n",
    "\n",
    "#valor más grande\n",
    "print(\"Peso máximo:\", np.max(datos))\n",
    "\n",
    "#valor más pequeño\n",
    "print(\"Peso mínimo:\", np.min(datos))\n",
    "\n",
    "#Obtuvieron 125(datos 1) o mas\n",
    "datos1 = np.sort(datos)\n",
    "suma_125 = np.where(datos1 > 125, 1, 0).sum()\n",
    "print(\"Estudiantes con 125 o más peso:\", suma_125)\n",
    "\n",
    "#Obtuvieron 138(datos 1) o menos\n",
    "suma_138 = np.where(datos1 < 138, 1, 0).sum()\n",
    "print(\"Estudiantes con 138 o menos peso:\", suma_138)\n",
    "\n",
    "#Porcentaje de valores (129<=x>=146, dato1)\n",
    "valores = np.where(datos1 <= 129, 1, 0).sum() / 50\n",
    "valoresDos = np.where(datos1 >= 146, 1, 0).sum() / 50\n",
    "print(\"% de estudiantes con 129 <= x >= 146:\",(valores + valoresDos)*100, \"%\")\n"
   ]
  },
  {
   "cell_type": "code",
   "execution_count": 127,
   "id": "27f63191",
   "metadata": {},
   "outputs": [
    {
     "name": "stdout",
     "output_type": "stream",
     "text": [
      "Frecuencias absolutas simples:\n",
      "[1 3 3 1 1 1 1 2 3 1 1 1 5 1 1 1 2 1 3 1 3 1 2 1 1 2 1 1 2 1 1]\n",
      "Frecuencias absolutas acumuladas:\n",
      "[ 1  4  7  8  9 10 11 13 16 17 18 19 24 25 26 27 29 30 33 34 37 38 40 41\n",
      " 42 44 45 46 48 49 50]\n",
      "Frecuencias relativas simples:\n",
      "[ 2.  6.  6.  2.  2.  2.  2.  4.  6.  2.  2.  2. 10.  2.  2.  2.  4.  2.\n",
      "  6.  2.  6.  2.  4.  2.  2.  4.  2.  2.  4.  2.  2.]\n",
      "Frecuencias relativas acumuladas:\n",
      "[  2.   8.  14.  16.  18.  20.  22.  26.  32.  34.  36.  38.  48.  50.\n",
      "  52.  54.  58.  60.  66.  68.  74.  76.  80.  82.  84.  88.  90.  92.\n",
      "  96.  98. 100.]\n"
     ]
    },
    {
     "data": {
      "image/png": "[encoded data removed]",
      "text/plain": [
       "<Figure size 640x480 with 1 Axes>"
      ]
     },
     "metadata": {},
     "output_type": "display_data"
    }
   ],
   "source": [
    "fig, ax = plt.subplots()\n",
    "variables, repetidas = np.unique(datos1, return_counts = True)\n",
    "#print(variables, repetidas)\n",
    "frecuencias_absolutas_simples = repetidas\n",
    "print(\"Frecuencias absolutas simples:\", frecuencias_absolutas_simples, sep = '\\n')\n",
    "frecuencias_absolutas_acumuladas = np.cumsum(frecuencias_absolutas_simples)\n",
    "print(\"Frecuencias absolutas acumuladas:\",frecuencias_absolutas_acumuladas, sep = '\\n')\n",
    "frecuencias_relativas_simples = np.round((frecuencias_absolutas_simples / 50) * 100, 2)\n",
    "print(\"Frecuencias relativas simples:\",frecuencias_relativas_simples, sep = '\\n')\n",
    "frecuencias_relativas_acumuladas = np.cumsum(frecuencias_relativas_simples)\n",
    "print(\"Frecuencias relativas acumuladas:\",frecuencias_relativas_acumuladas, sep = '\\n')\n",
    "b = np.append(variables, 181)\n",
    "\n",
    "#histograma de frecuencias\n",
    "frecuencias = ax.hist(datos1, bins = b)\n",
    "ax.set(xlim = (124, 184), xticks = np.arange(128, 181, 4),\n",
    "       ylim = (1, 6), yticks = np.linspace(0, 5, 7, dtype = np.int16))\n",
    "ax.grid(True)\n",
    "plt.show()"
   ]
  },
  {
   "cell_type": "code",
   "execution_count": 132,
   "id": "53e020ce",
   "metadata": {},
   "outputs": [
    {
     "name": "stdout",
     "output_type": "stream",
     "text": [
      "Media aritmética con datos agrupados: 1.4177999999999997\n",
      "Media aritmética con datos no agrupados: 151.48\n",
      "Media geométrica: 150.68719926634367\n",
      "Media armónica H: 149.90230829714335\n",
      "Mediana: 148.5\n",
      "Moda: 146\n",
      "Cuartiles: [137.0, 148.5, 163.75]\n",
      "Deciles: [131.0, 135.2, 142.0, 146.0, 148.5, 157.8, 162.0, 166.8, 174.8]\n",
      "Percentiles:\n",
      "[127.51, 128.02, 128.53, 129.0, 129.0, 129.0, 129.0, 129.16, 130.18, 131.0, 131.0, 131.0, 131.0, 131.14, 131.65, 132.16, 132.67, 133.36, 134.38, 135.2, 135.71, 136.22, 136.73, 137.0, 137.0, 138.3, 140.85, 142.0, 142.0, 142.0, 142.0, 142.32, 142.83, 143.34, 143.85, 144.36, 144.87, 145.38, 145.89, 146.0, 146.0, 146.0, 146.0, 146.0, 146.0, 146.0, 146.0, 146.48, 146.99, 148.5, 150.01, 150.52, 151.03, 151.54, 152.0, 152.0, 152.28, 154.32, 156.27, 157.8, 159.0, 159.0, 159.0, 159.0, 159.15, 159.66, 160.34, 161.36, 162.0, 162.0, 162.0, 162.0, 162.23, 162.74, 163.75, 165.28, 166.0, 166.0, 166.29, 166.8, 167.31, 167.82, 169.32, 171.36, 172.0, 172.0, 172.37, 172.88, 173.78, 174.8, 176.23, 177.76, 178.0, 178.0, 178.45, 178.96, 179.47, 179.98, 180.49]\n"
     ]
    }
   ],
   "source": [
    "#Media aritmética valores agrupados\n",
    "ma_agrupados = variables * repetidas\n",
    "print(\"Media aritmética con datos agrupados:\", np.sum(ma_agrupados)/50)\n",
    "\n",
    "#Media aritmética de valores no agrupados\n",
    "print(\"Media aritmética con datos no agrupados:\", np.sum(datos1)/50)\n",
    "\n",
    "#Media geométrica\n",
    "print(\"Media geométrica:\",sts.geometric_mean(datos1))\n",
    "\n",
    "#Media Armónica H\n",
    "print(\"Media armónica H:\", sts.harmonic_mean(datos1))\n",
    "\n",
    "#Mediana\n",
    "print(\"Mediana:\", sts.median(datos1))\n",
    "\n",
    "#Moda\n",
    "print(\"Moda:\", sts.mode(datos1))\n",
    "\n",
    "#Cuartiles\n",
    "print(\"Cuartiles:\",[round(q, 2) for q in sts.quantiles(datos1, n=4)])\n",
    "\n",
    "#Deciles\n",
    "print(\"Deciles:\",[round(q, 2) for q in sts.quantiles(datos1, n=10)])\n",
    "\n",
    "#Percentiles\n",
    "print(\"Percentiles:\",[round(q, 2) for q in sts.quantiles(datos1, n=100)], sep = '\\n')"
   ]
  },
  {
   "cell_type": "code",
   "execution_count": 101,
   "id": "876778a3",
   "metadata": {},
   "outputs": [
    {
     "name": "stdout",
     "output_type": "stream",
     "text": [
      "Rango: 52\n",
      "6.5 [128 134 140 146 152 158 164 170]\n",
      "(array([9., 4., 6., 8., 3., 8., 4.]), array([128., 134., 140., 146., 152., 158., 164., 170.]), <BarContainer object of 7 artists>)\n"
     ]
    },
    {
     "data": {
      "image/png": "[encoded data removed]",
      "text/plain": [
       "<Figure size 640x480 with 1 Axes>"
      ]
     },
     "metadata": {},
     "output_type": "display_data"
    }
   ],
   "source": [
    "#rango\n",
    "rango = datos1[49] - datos1[0]\n",
    "print(\"Rango:\", rango)\n",
    "\n",
    "#intervalos de la clase\n",
    "intervalos = rango / 8\n",
    "b = np.arange(datos1[0], datos1[49], intervalos, dtype = np.int16)\n",
    "print(intervalos, b)\n",
    "\n",
    "#histograma con los intervalos de clase\n",
    "fig, ax = plt.subplots()\n",
    "intervalos_clase = ax.hist(datos1, bins = b, range = (datos1[0], datos1[49]), linewidth=0.5, edgecolor=\"white\")\n",
    "plt.xticks(fontsize=8)\n",
    "ax.set(xlim=(124, 174), xticks = intervalos_clase[1],\n",
    "       ylim=(0, 10), yticks = np.arange(0, 10, 1, dtype=np.int16))\n",
    "print(intervalos_clase)\n",
    "ax.grid(True)"
   ]
  },
  {
   "cell_type": "markdown",
   "id": "25d172cc",
   "metadata": {},
   "source": [
    "## Ejercicio 2"
   ]
  },
  {
   "cell_type": "code",
   "execution_count": 112,
   "id": "aed30ba2",
   "metadata": {},
   "outputs": [
    {
     "name": "stdout",
     "output_type": "stream",
     "text": [
      "Medida máxima: 1.6\n",
      "Medida mínima: 1.2\n",
      "Tornillos con 1.25 o más de medida: 44\n",
      "Tornillos con 1.32 o menos de medida: 14\n",
      "% de tornillos con 1.39 < x >= 1.41: 94.0 %\n"
     ]
    }
   ],
   "source": [
    "medidas = np.array([1.34, 1.2, 1.41, 1.52, 1.49, 1.3, 1.24, 1.29, 1.53, 1.55, 1.37, 1.56, 1.56, 1.39,\n",
    "1.39, 1.51, 1.59, 1.54, 1.29, 1.44, 1.5, 1.22, 1.32, 1.42, 1.42, 1.6, 1.58, 1.31,\n",
    "1.45, 1.29, 1.51, 1.4, 1.29, 1.57, 1.24, 1.44, 1.28, 1.52, 1.49, 1.41, 1.32, 1.31,\n",
    "1.23, 1.25, 1.57, 1.53, 1.35, 1.57, 1.50, 1.49])\n",
    "\n",
    "#valor más grande\n",
    "print(\"Medida máxima:\", np.max(medidas))\n",
    "\n",
    "#valor más pequeño\n",
    "print(\"Medida mínima:\", np.min(medidas))\n",
    "\n",
    "#Obtuvieron 1.25(datos 2) o mas\n",
    "datos2 = np.sort(medidas)\n",
    "suma_1_25 = np.where(datos2 > 1.25, 1, 0).sum()\n",
    "print(\"Tornillos con 1.25 o más de medida:\", suma_1_25)\n",
    "\n",
    "#Obtuvieron 1.32(datos 2) o menos\n",
    "suma_1_32 = np.where(datos2 < 1.32, 1, 0).sum()\n",
    "print(\"Tornillos con 1.32 o menos de medida:\", suma_1_32)\n",
    "\n",
    "#Porcentaje de valores (1.39<x>=141, dato2)\n",
    "valores = np.where(datos2 < 1.39, 1, 0).sum() / 50\n",
    "valoresDos = np.where(datos2 >= 1.41, 1, 0).sum() / 50\n",
    "print(\"% de tornillos con 1.39 < x >= 1.41:\",(valores + valoresDos)*100, \"%\")"
   ]
  },
  {
   "cell_type": "code",
   "execution_count": 147,
   "id": "0156e2eb",
   "metadata": {},
   "outputs": [
    {
     "name": "stdout",
     "output_type": "stream",
     "text": [
      "Frecuencias absolutas simples:\n",
      "[1 1 1 2 1 1 4 1 2 2 1 1 1 2 1 2 2 2 1 3 2 2 2 2 1 1 2 3 1 1 1]\n",
      "Frecuencias absolutas acumuladas:\n",
      "[ 1  2  3  5  6  7 11 12 14 16 17 18 19 21 22 24 26 28 29 32 34 36 38 40\n",
      " 41 42 44 47 48 49 50]\n",
      "Frecuencias relativas simples:\n",
      "[2. 2. 2. 4. 2. 2. 8. 2. 4. 4. 2. 2. 2. 4. 2. 4. 4. 4. 2. 6. 4. 4. 4. 4.\n",
      " 2. 2. 4. 6. 2. 2. 2.]\n",
      "Frecuencias relativas acumuladas:\n",
      "[  2.   4.   6.  10.  12.  14.  22.  24.  28.  32.  34.  36.  38.  42.\n",
      "  44.  48.  52.  56.  58.  64.  68.  72.  76.  80.  82.  84.  88.  94.\n",
      "  96.  98. 100.]\n"
     ]
    },
    {
     "data": {
      "image/png": "[encoded data removed]",
      "text/plain": [
       "<Figure size 640x480 with 1 Axes>"
      ]
     },
     "metadata": {},
     "output_type": "display_data"
    }
   ],
   "source": [
    "fig, ax = plt.subplots()\n",
    "variables, repetidas = np.unique(datos2, return_counts = True)\n",
    "#print(variables, repetidas)\n",
    "frecuencias_absolutas_simples = repetidas\n",
    "print(\"Frecuencias absolutas simples:\", frecuencias_absolutas_simples, sep = '\\n')\n",
    "frecuencias_absolutas_acumuladas = np.cumsum(frecuencias_absolutas_simples)\n",
    "print(\"Frecuencias absolutas acumuladas:\",frecuencias_absolutas_acumuladas, sep = '\\n')\n",
    "frecuencias_relativas_simples = np.round((frecuencias_absolutas_simples / 50) * 100, 2)\n",
    "print(\"Frecuencias relativas simples:\",frecuencias_relativas_simples, sep = '\\n')\n",
    "frecuencias_relativas_acumuladas = np.cumsum(frecuencias_relativas_simples)\n",
    "print(\"Frecuencias relativas acumuladas:\",frecuencias_relativas_acumuladas, sep = '\\n')\n",
    "\n",
    "b = np.append(variables, 1.61)\n",
    "\n",
    "#histograma de frecuencias\n",
    "frecuencias = ax.hist(datos2, bins = b)\n",
    "ax.set(xlim = (1.16, 1.64), xticks = np.arange(1.2, 1.61, 0.04),\n",
    "       ylim = (1, 5), yticks = np.linspace(0, 4, 6, dtype = np.int16))\n",
    "ax.grid(True)\n",
    "plt.show()\n"
   ]
  },
  {
   "cell_type": "code",
   "execution_count": 133,
   "id": "3af13d7b",
   "metadata": {},
   "outputs": [
    {
     "name": "stdout",
     "output_type": "stream",
     "text": [
      "Media aritmética con datos agrupados: 1.4177999999999997\n",
      "Media aritmética con datos no agrupados: 1.4177999999999997\n",
      "Media geométrica: 1.4128346503940055\n",
      "Media armónica H: 1.4078154299191492\n",
      "Mediana: 1.42\n",
      "Moda: 1.29\n",
      "Cuartiles: [1.31, 1.42, 1.52]\n",
      "Deciles: [1.24, 1.29, 1.32, 1.39, 1.42, 1.49, 1.51, 1.54, 1.57]\n",
      "Percentiles:\n",
      "[1.19, 1.2, 1.21, 1.22, 1.23, 1.23, 1.24, 1.24, 1.24, 1.24, 1.25, 1.25, 1.27, 1.28, 1.29, 1.29, 1.29, 1.29, 1.29, 1.29, 1.29, 1.29, 1.3, 1.3, 1.31, 1.31, 1.31, 1.31, 1.32, 1.32, 1.32, 1.33, 1.34, 1.34, 1.35, 1.36, 1.37, 1.38, 1.39, 1.39, 1.39, 1.39, 1.4, 1.4, 1.41, 1.41, 1.41, 1.41, 1.42, 1.42, 1.42, 1.43, 1.44, 1.44, 1.44, 1.45, 1.45, 1.47, 1.49, 1.49, 1.49, 1.49, 1.49, 1.5, 1.5, 1.5, 1.5, 1.51, 1.51, 1.51, 1.51, 1.52, 1.52, 1.52, 1.52, 1.53, 1.53, 1.53, 1.53, 1.54, 1.54, 1.55, 1.55, 1.56, 1.56, 1.56, 1.56, 1.57, 1.57, 1.57, 1.57, 1.57, 1.57, 1.58, 1.58, 1.59, 1.59, 1.6, 1.6]\n"
     ]
    }
   ],
   "source": [
    "#Media aritmética valores agrupados\n",
    "ma_agrupados = variables * repetidas\n",
    "print(\"Media aritmética con datos agrupados:\", np.sum(ma_agrupados)/50)\n",
    "\n",
    "#Media aritmética de valores no agrupados\n",
    "print(\"Media aritmética con datos no agrupados:\", np.sum(datos2)/50)\n",
    "\n",
    "#Media geométrica\n",
    "print(\"Media geométrica:\",sts.geometric_mean(datos2))\n",
    "\n",
    "#Media Armónica H\n",
    "print(\"Media armónica H:\", sts.harmonic_mean(datos2))\n",
    "\n",
    "#Mediana\n",
    "print(\"Mediana:\", sts.median(datos2))\n",
    "\n",
    "#Moda\n",
    "print(\"Moda:\", sts.mode(datos2))\n",
    "\n",
    "#Cuartiles\n",
    "print(\"Cuartiles:\",[round(q, 2) for q in sts.quantiles(datos2, n=4)])\n",
    "\n",
    "#Deciles\n",
    "print(\"Deciles:\",[round(q, 2) for q in sts.quantiles(datos2, n=10)])\n",
    "\n",
    "#Percentiles\n",
    "print(\"Percentiles:\",[round(q, 2) for q in sts.quantiles(datos2, n=100)], sep = '\\n')"
   ]
  },
  {
   "cell_type": "code",
   "execution_count": 148,
   "id": "b7219087",
   "metadata": {},
   "outputs": [
    {
     "name": "stdout",
     "output_type": "stream",
     "text": [
      "Rango: 0.40000000000000013\n",
      "0.05000000000000002 [1.2  1.25 1.3  1.35 1.4  1.45 1.5  1.55]\n",
      "(array([5., 6., 6., 5., 7., 5., 8.]), array([1.2 , 1.25, 1.3 , 1.35, 1.4 , 1.45, 1.5 , 1.55]), <BarContainer object of 7 artists>)\n"
     ]
    },
    {
     "data": {
      "image/png": "[encoded data removed]",
      "text/plain": [
       "<Figure size 640x480 with 1 Axes>"
      ]
     },
     "metadata": {},
     "output_type": "display_data"
    }
   ],
   "source": [
    "#rango\n",
    "rango = datos2[49] - datos2[0]\n",
    "print(\"Rango:\", rango)\n",
    "\n",
    "#intervalos de la clase\n",
    "intervalos = rango / 8\n",
    "b = np.arange(datos2[0], datos2[49], intervalos, dtype = np.float64)\n",
    "print(intervalos, b)\n",
    "\n",
    "#histograma con los intervalos de clase\n",
    "fig, ax = plt.subplots()\n",
    "intervalos_clase = ax.hist(datos2, bins = b, range = (datos1[0], datos1[49]), linewidth=0.5, edgecolor=\"white\")\n",
    "plt.xticks(fontsize=8)\n",
    "ax.set(xlim=(1.16, 1.59), xticks = intervalos_clase[1],\n",
    "       ylim=(0, 9), yticks = np.arange(0, 9, 1, dtype=np.int16))\n",
    "print(intervalos_clase)\n",
    "ax.grid(True)"
   ]
  }
 ],
 "metadata": {
  "kernelspec": {
   "display_name": "Python 3 (ipykernel)",
   "language": "python",
   "name": "python3"
  },
  "language_info": {
   "codemirror_mode": {
    "name": "ipython",
    "version": 3
   },
   "file_extension": ".py",
   "mimetype": "text/x-python",
   "name": "python",
   "nbconvert_exporter": "python",
   "pygments_lexer": "ipython3",
   "version": "3.10.9"
  }
 },
 "nbformat": 4,
 "nbformat_minor": 5
}
