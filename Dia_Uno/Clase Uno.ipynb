{
 "cells": [
  {
   "cell_type": "markdown",
   "id": "c499616c",
   "metadata": {},
   "source": [
    "# Tipo de Datos con Python"
   ]
  },
  {
   "cell_type": "code",
   "execution_count": 5,
   "id": "63a66095",
   "metadata": {},
   "outputs": [],
   "source": [
    "from decimal import Decimal\n",
    "from decimal import getcontext\n",
    "from decimal import localcontext\n",
    "from fractions import Fraction\n",
    "import math\n",
    "ctx=getcontext()"
   ]
  },
  {
   "cell_type": "markdown",
   "id": "f2f20f47",
   "metadata": {},
   "source": [
    "Tipo de Dato Decimal"
   ]
  },
  {
   "cell_type": "code",
   "execution_count": 10,
   "id": "7b436a21",
   "metadata": {},
   "outputs": [
    {
     "name": "stdout",
     "output_type": "stream",
     "text": [
      "1.644510182156941083123019010\n"
     ]
    }
   ],
   "source": [
    "num1 = Decimal('1.1324242')\n",
    "print(num1**4)"
   ]
  },
  {
   "cell_type": "code",
   "execution_count": 12,
   "id": "2bf35c6e",
   "metadata": {},
   "outputs": [
    {
     "name": "stdout",
     "output_type": "stream",
     "text": [
      "1.64\n"
     ]
    }
   ],
   "source": [
    "ctx.prec = 3\n",
    "print(num1**4)"
   ]
  },
  {
   "cell_type": "code",
   "execution_count": 13,
   "id": "02ec89a7",
   "metadata": {},
   "outputs": [
    {
     "name": "stdout",
     "output_type": "stream",
     "text": [
      "1.6\n",
      "1.64\n"
     ]
    }
   ],
   "source": [
    "with localcontext() as ctx:\n",
    "    ctx.prec = 2\n",
    "    print(num1**4)\n",
    "print(num1**4)"
   ]
  },
  {
   "cell_type": "markdown",
   "id": "0e72043e",
   "metadata": {},
   "source": [
    "Numéros complejos"
   ]
  },
  {
   "cell_type": "code",
   "execution_count": 14,
   "id": "49932b8b",
   "metadata": {},
   "outputs": [
    {
     "name": "stdout",
     "output_type": "stream",
     "text": [
      "(4+2j)\n"
     ]
    }
   ],
   "source": [
    "z = 1 +2j\n",
    "print(z + 3)"
   ]
  },
  {
   "cell_type": "markdown",
   "id": "1d6bc202",
   "metadata": {},
   "source": [
    "Números fraccionarios"
   ]
  },
  {
   "cell_type": "code",
   "execution_count": 18,
   "id": "2018fa24",
   "metadata": {},
   "outputs": [
    {
     "name": "stdout",
     "output_type": "stream",
     "text": [
      "7/10\n"
     ]
    }
   ],
   "source": [
    "num2 = Fraction(1,2)\n",
    "num3 = Fraction(1,5)\n",
    "print(num2 + num3)"
   ]
  },
  {
   "cell_type": "markdown",
   "id": "bd238649",
   "metadata": {},
   "source": [
    "Librería math"
   ]
  },
  {
   "cell_type": "code",
   "execution_count": 20,
   "id": "b36c5717",
   "metadata": {},
   "outputs": [
    {
     "name": "stdout",
     "output_type": "stream",
     "text": [
      "8.0\n"
     ]
    }
   ],
   "source": [
    "print(math.sqrt(64))"
   ]
  },
  {
   "cell_type": "code",
   "execution_count": 24,
   "id": "429d16c9",
   "metadata": {},
   "outputs": [
    {
     "name": "stdout",
     "output_type": "stream",
     "text": [
      "0.7071067811865476\n",
      "0.7071067811865476\n",
      "0.9999999999999999\n"
     ]
    }
   ],
   "source": [
    "theta = math.pi/4\n",
    "print(math.sin(theta))\n",
    "print(math.cos(theta))\n",
    "print(math.tan(theta))"
   ]
  },
  {
   "cell_type": "code",
   "execution_count": 28,
   "id": "ded1c426",
   "metadata": {},
   "outputs": [
    {
     "name": "stdout",
     "output_type": "stream",
     "text": [
      "1.0\n",
      "2.0\n",
      "2.302585092994046\n"
     ]
    }
   ],
   "source": [
    "print(math.log(10,10))\n",
    "print(math.log(25,5))\n",
    "print(math.log(10)) #base e"
   ]
  },
  {
   "cell_type": "code",
   "execution_count": 30,
   "id": "6f7c01b7",
   "metadata": {},
   "outputs": [
    {
     "name": "stdout",
     "output_type": "stream",
     "text": [
      "2\n"
     ]
    }
   ],
   "source": [
    "print(math.gcd(2,4,8))"
   ]
  },
  {
   "cell_type": "code",
   "execution_count": 33,
   "id": "829a7943",
   "metadata": {
    "scrolled": true
   },
   "outputs": [
    {
     "name": "stdout",
     "output_type": "stream",
     "text": [
      "3\n",
      "6\n",
      "24\n"
     ]
    }
   ],
   "source": [
    "print(math.comb(3,2))\n",
    "print(math.perm(3,2))\n",
    "print(math.factorial(4))"
   ]
  },
  {
   "cell_type": "code",
   "execution_count": 38,
   "id": "3576a2de",
   "metadata": {},
   "outputs": [
    {
     "name": "stdout",
     "output_type": "stream",
     "text": [
      "[0.1, 0.1, 0.1, 0.1, 0.1, 0.1, 0.1, 0.1, 0.1, 0.1]\n",
      "0.9999999999999999\n",
      "1.0\n"
     ]
    }
   ],
   "source": [
    "listNum = [.1]*10\n",
    "print(listNum)\n",
    "print(sum(listNum))\n",
    "print(math.fsum(listNum))"
   ]
  },
  {
   "cell_type": "code",
   "execution_count": 39,
   "id": "7d0a3654",
   "metadata": {},
   "outputs": [
    {
     "name": "stdout",
     "output_type": "stream",
     "text": [
      "1\n",
      "2\n"
     ]
    }
   ],
   "source": [
    "print(math.floor(1.65))\n",
    "print(math.ceil(1.3))"
   ]
  }
 ],
 "metadata": {
  "kernelspec": {
   "display_name": "Python 3 (ipykernel)",
   "language": "python",
   "name": "python3"
  },
  "language_info": {
   "codemirror_mode": {
    "name": "ipython",
    "version": 3
   },
   "file_extension": ".py",
   "mimetype": "text/x-python",
   "name": "python",
   "nbconvert_exporter": "python",
   "pygments_lexer": "ipython3",
   "version": "3.10.9"
  }
 },
 "nbformat": 4,
 "nbformat_minor": 5
}
