{
 "cells": [
  {
   "cell_type": "markdown",
   "id": "78f6f142",
   "metadata": {},
   "source": [
    "Ejercicio uno"
   ]
  },
  {
   "cell_type": "code",
   "execution_count": 2,
   "id": "51a694d0",
   "metadata": {},
   "outputs": [],
   "source": [
    "import math"
   ]
  },
  {
   "cell_type": "code",
   "execution_count": 3,
   "id": "77a56040",
   "metadata": {},
   "outputs": [
    {
     "name": "stdout",
     "output_type": "stream",
     "text": [
      "11\n"
     ]
    }
   ],
   "source": [
    "print(math.ceil(math.log(2000,2)))"
   ]
  },
  {
   "cell_type": "markdown",
   "id": "697c9bb4",
   "metadata": {},
   "source": [
    "Ejercicio dos"
   ]
  },
  {
   "cell_type": "code",
   "execution_count": 4,
   "id": "e1588967",
   "metadata": {},
   "outputs": [
    {
     "name": "stdout",
     "output_type": "stream",
     "text": [
      "1.0\n"
     ]
    }
   ],
   "source": [
    "print(math.log(2,2) + math.log(1,2))"
   ]
  },
  {
   "cell_type": "markdown",
   "id": "955b15c8",
   "metadata": {},
   "source": [
    "Ejercicio tres"
   ]
  },
  {
   "cell_type": "code",
   "execution_count": 5,
   "id": "668519d5",
   "metadata": {},
   "outputs": [
    {
     "name": "stdout",
     "output_type": "stream",
     "text": [
      "6.123233995736766e-17\n",
      "1.0\n"
     ]
    }
   ],
   "source": [
    "radianes = (math.pi / 180) * 90\n",
    "print(math.cos(radianes))\n",
    "print(math.sin(radianes))\n"
   ]
  },
  {
   "cell_type": "code",
   "execution_count": 16,
   "id": "946056c3",
   "metadata": {},
   "outputs": [
    {
     "name": "stdout",
     "output_type": "stream",
     "text": [
      "-0.7071067811865475\n",
      "0.7071067811865476\n"
     ]
    }
   ],
   "source": [
    "radianes = (math.pi / 180) * 135\n",
    "print(math.cos(radianes))\n",
    "print(math.sin(radianes))"
   ]
  },
  {
   "cell_type": "code",
   "execution_count": 17,
   "id": "0f8d7658",
   "metadata": {},
   "outputs": [
    {
     "name": "stdout",
     "output_type": "stream",
     "text": [
      "0.8660254037844384\n",
      "-0.5000000000000004\n"
     ]
    }
   ],
   "source": [
    "radianes = (math.pi / 180) * 330\n",
    "print(math.cos(radianes))\n",
    "print(math.sin(radianes))"
   ]
  },
  {
   "cell_type": "code",
   "execution_count": 18,
   "id": "d9628d3a",
   "metadata": {},
   "outputs": [
    {
     "name": "stdout",
     "output_type": "stream",
     "text": [
      "0.8660254037844392\n",
      "0.49999999999999906\n"
     ]
    }
   ],
   "source": [
    "radianes = (math.pi / 180) * 750\n",
    "print(math.cos(radianes))\n",
    "print(math.sin(radianes))"
   ]
  },
  {
   "cell_type": "markdown",
   "id": "bf895086",
   "metadata": {},
   "source": [
    "Ejercicio cuatro"
   ]
  },
  {
   "cell_type": "code",
   "execution_count": 12,
   "id": "bb8f40a7",
   "metadata": {},
   "outputs": [
    {
     "name": "stdout",
     "output_type": "stream",
     "text": [
      "11232000\n"
     ]
    }
   ],
   "source": [
    "print(math.perm(26,3)*math.perm(10,3))"
   ]
  },
  {
   "cell_type": "code",
   "execution_count": 14,
   "id": "6e02cf8e",
   "metadata": {},
   "outputs": [
    {
     "name": "stdout",
     "output_type": "stream",
     "text": [
      "17576000.0\n"
     ]
    }
   ],
   "source": [
    "print(math.pow(26,3)*math.pow(10,3))"
   ]
  },
  {
   "cell_type": "markdown",
   "id": "789f0f8e",
   "metadata": {},
   "source": [
    "Ejercicio 5"
   ]
  },
  {
   "cell_type": "code",
   "execution_count": 15,
   "id": "6a9f35b9",
   "metadata": {},
   "outputs": [
    {
     "name": "stdout",
     "output_type": "stream",
     "text": [
      "10\n"
     ]
    }
   ],
   "source": [
    "print(math.comb(5,3))"
   ]
  }
 ],
 "metadata": {
  "kernelspec": {
   "display_name": "Python 3 (ipykernel)",
   "language": "python",
   "name": "python3"
  },
  "language_info": {
   "codemirror_mode": {
    "name": "ipython",
    "version": 3
   },
   "file_extension": ".py",
   "mimetype": "text/x-python",
   "name": "python",
   "nbconvert_exporter": "python",
   "pygments_lexer": "ipython3",
   "version": "3.11.3"
  }
 },
 "nbformat": 4,
 "nbformat_minor": 5
}
