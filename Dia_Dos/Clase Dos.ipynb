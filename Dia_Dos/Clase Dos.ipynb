{
 "cells": [
  {
   "cell_type": "markdown",
   "id": "639434d7",
   "metadata": {},
   "source": [
    "## Numpy"
   ]
  },
  {
   "cell_type": "code",
   "execution_count": 2,
   "id": "b0c6e2a7",
   "metadata": {},
   "outputs": [],
   "source": [
    "import numpy as np"
   ]
  },
  {
   "cell_type": "code",
   "execution_count": 4,
   "id": "f6b11785",
   "metadata": {},
   "outputs": [
    {
     "name": "stdout",
     "output_type": "stream",
     "text": [
      "[0 1 2 3 4 5]\n"
     ]
    }
   ],
   "source": [
    "vector = np.array([0,1,2,3,4,5])\n",
    "print(vector)"
   ]
  },
  {
   "cell_type": "code",
   "execution_count": 9,
   "id": "fbc25679",
   "metadata": {},
   "outputs": [
    {
     "name": "stdout",
     "output_type": "stream",
     "text": [
      "[1. 2. 3. 4. 5.]\n",
      "[0.0e+00 0.0e+00 6.0e-08 0.0e+00 1.2e-07 0.0e+00 1.8e-07 0.0e+00 2.4e-07\n",
      " 0.0e+00 3.0e-07 0.0e+00]\n",
      "[1. 2. 3. 4. 5.]\n"
     ]
    }
   ],
   "source": [
    "vectorDos = np.array([1,2,3,4,5], dtype = np.float32)\n",
    "print(vectorDos)\n",
    "\n",
    "vector.dtype = np.float16\n",
    "print(vector)\n",
    "\n",
    "vectorTres = np.array([1,2,3,4,5])\n",
    "vectorTres = vectorTres.astype(np.float32)\n",
    "print(vectorTres)"
   ]
  },
  {
   "cell_type": "code",
   "execution_count": 11,
   "id": "ce1ac414",
   "metadata": {},
   "outputs": [
    {
     "name": "stdout",
     "output_type": "stream",
     "text": [
      "4.0\n"
     ]
    }
   ],
   "source": [
    "print(vectorTres[3])"
   ]
  },
  {
   "cell_type": "code",
   "execution_count": 14,
   "id": "ee8998a3",
   "metadata": {},
   "outputs": [
    {
     "name": "stdout",
     "output_type": "stream",
     "text": [
      "[0 2 4 6]\n"
     ]
    }
   ],
   "source": [
    "vectorCuatro = np.array([0,1,2,3,4,5,6,7,8,9,10,11,12,13,14,15])\n",
    "print(vectorCuatro[0:8:2])"
   ]
  },
  {
   "cell_type": "code",
   "execution_count": 25,
   "id": "c6509049",
   "metadata": {
    "scrolled": true
   },
   "outputs": [
    {
     "name": "stdout",
     "output_type": "stream",
     "text": [
      "[ 0  0 -1]\n",
      "[0 2 5]\n",
      "[ 0 -1 -6]\n",
      "[0. 1. 2.]\n",
      "[0 2 4]\n",
      "[False  True  True]\n",
      "[1 1 4]\n"
     ]
    }
   ],
   "source": [
    "a = np.array([0,1,2])\n",
    "b = np.array([0,-1,-3])\n",
    "c = np.array([1,1,1])\n",
    "\n",
    "print(a+b)\n",
    "print(a-b)\n",
    "print(a*b)\n",
    "print(a/c)\n",
    "print(2*a)\n",
    "demo = a>= 1\n",
    "print(demo)\n",
    "print(a**a)"
   ]
  },
  {
   "cell_type": "markdown",
   "id": "bc52db2a",
   "metadata": {},
   "source": [
    "Rutinas linspace,arange para generar numeros entre un rango entre dos numeros dados. a<=x<=b -->linspace a<=x<b -->arange"
   ]
  },
  {
   "cell_type": "code",
   "execution_count": 32,
   "id": "486da465",
   "metadata": {
    "scrolled": true
   },
   "outputs": [
    {
     "name": "stdout",
     "output_type": "stream",
     "text": [
      "[ 3.  7. 11. 15.]\n",
      "[ 0  1  2  3  4  5  6  7  8  9 10 11 12 13 14 15]\n"
     ]
    }
   ],
   "source": [
    "print(np.linspace(3,15,4))\n",
    "print(np.arange(0,16,1))"
   ]
  },
  {
   "cell_type": "code",
   "execution_count": 50,
   "id": "922f5d88",
   "metadata": {},
   "outputs": [
    {
     "name": "stdout",
     "output_type": "stream",
     "text": [
      "[[1 2 3]\n",
      " [4 5 6]\n",
      " [7 8 9]]\n",
      "(3, 3)\n",
      "(16,)\n",
      "[1 2 3 4 5 6 7 8 9]\n",
      "[[1 2 3]\n",
      " [4 5 6]\n",
      " [7 8 9]]\n",
      "[[ 0  1  2  3  4  5  6  7]\n",
      " [ 8  9 10 11 12 13 14 15]]\n",
      "(3, 2, 2)\n"
     ]
    }
   ],
   "source": [
    "matrix = np.array([[1,2,3],[4,5,6],[7,8,9]])\n",
    "a = np.arange(0,16,1)\n",
    "print(matrix)\n",
    "print(matrix.shape)\n",
    "print(a.shape)\n",
    "nueva = matrix.reshape(9,)\n",
    "print(nueva)\n",
    "print(matrix)\n",
    "b = a.reshape(2,8)\n",
    "print(b)\n",
    "\n",
    "mt1=[[34,3],[67,7]]\n",
    "mt2=[[11,2],[78,3]]\n",
    "mt3=[[23,32],[90,1]]\n",
    "arr1=np.array([mt1,mt2,mt3])\n",
    "print(arr1.shape)\n"
   ]
  },
  {
   "cell_type": "code",
   "execution_count": 68,
   "id": "1a3f2a95",
   "metadata": {},
   "outputs": [
    {
     "name": "stdout",
     "output_type": "stream",
     "text": [
      "[[1 2 3]\n",
      " [4 5 6]\n",
      " [7 8 9]]\n",
      "(3, 3)\n",
      "(1, 3)\n",
      "8\n"
     ]
    }
   ],
   "source": [
    "m = np.array([[1,2,3],[4,5,6],[7,8,9]])\n",
    "print(m)\n",
    "print(m.shape)\n",
    "c1 = m[:2,1:3]\n",
    "c2 = m[2:,:]\n",
    "print(c2.shape)\n",
    "print(c2[0][1])"
   ]
  },
  {
   "cell_type": "code",
   "execution_count": 70,
   "id": "fcf2deb2",
   "metadata": {},
   "outputs": [
    {
     "name": "stdout",
     "output_type": "stream",
     "text": [
      "[2. 1.]\n",
      "[3. 5.]\n"
     ]
    }
   ],
   "source": [
    "A = np.array([[2,-1],[1,3]])\n",
    "b = np.array([3,5])\n",
    "c = np.linalg.solve(A,b)\n",
    "print(c)\n",
    "print(A@c) #multiplicacion de matrices @"
   ]
  }
 ],
 "metadata": {
  "kernelspec": {
   "display_name": "Python 3 (ipykernel)",
   "language": "python",
   "name": "python3"
  },
  "language_info": {
   "codemirror_mode": {
    "name": "ipython",
    "version": 3
   },
   "file_extension": ".py",
   "mimetype": "text/x-python",
   "name": "python",
   "nbconvert_exporter": "python",
   "pygments_lexer": "ipython3",
   "version": "3.10.9"
  }
 },
 "nbformat": 4,
 "nbformat_minor": 5
}
