{
 "cells": [
  {
   "cell_type": "markdown",
   "id": "b79a21d4",
   "metadata": {},
   "source": [
    "Ejercicio 1"
   ]
  },
  {
   "cell_type": "code",
   "execution_count": 1,
   "id": "00b85e18",
   "metadata": {},
   "outputs": [],
   "source": [
    "import numpy as np"
   ]
  },
  {
   "cell_type": "code",
   "execution_count": 2,
   "id": "2f75309f",
   "metadata": {
    "scrolled": false
   },
   "outputs": [
    {
     "name": "stdout",
     "output_type": "stream",
     "text": [
      "[[ 1  4]\n",
      " [-1  3]\n",
      " [ 2 -9]]\n"
     ]
    }
   ],
   "source": [
    "A = np.array([[1,4],[-1,3],[2,-9]])\n",
    "ceros = np.zeros((3,2))\n",
    "print(A)"
   ]
  },
  {
   "cell_type": "code",
   "execution_count": 3,
   "id": "577066a3",
   "metadata": {
    "scrolled": false
   },
   "outputs": [
    {
     "name": "stdout",
     "output_type": "stream",
     "text": [
      "[[ 1.  4.]\n",
      " [-1.  3.]\n",
      " [ 2. -9.]]\n"
     ]
    }
   ],
   "source": [
    "r = A + ceros\n",
    "print(r)"
   ]
  },
  {
   "cell_type": "code",
   "execution_count": 4,
   "id": "b67dfc84",
   "metadata": {},
   "outputs": [
    {
     "name": "stdout",
     "output_type": "stream",
     "text": [
      "[[ 1.  4.]\n",
      " [-1.  3.]\n",
      " [ 2. -9.]]\n"
     ]
    }
   ],
   "source": [
    "r = A - ceros\n",
    "print(r)"
   ]
  },
  {
   "cell_type": "code",
   "execution_count": 5,
   "id": "ba49636a",
   "metadata": {},
   "outputs": [
    {
     "name": "stdout",
     "output_type": "stream",
     "text": [
      "[[0 0]\n",
      " [0 0]\n",
      " [0 0]]\n"
     ]
    }
   ],
   "source": [
    "r = A - A\n",
    "print(r)"
   ]
  },
  {
   "cell_type": "markdown",
   "id": "534c1f98",
   "metadata": {},
   "source": [
    "Ejercicio 2"
   ]
  },
  {
   "cell_type": "code",
   "execution_count": 6,
   "id": "f0b42e00",
   "metadata": {
    "scrolled": true
   },
   "outputs": [
    {
     "ename": "ValueError",
     "evalue": "operands could not be broadcast together with shapes (2,2) (2,3) ",
     "output_type": "error",
     "traceback": [
      "\u001b[1;31m---------------------------------------------------------------------------\u001b[0m",
      "\u001b[1;31mValueError\u001b[0m                                Traceback (most recent call last)",
      "Cell \u001b[1;32mIn[6], line 4\u001b[0m\n\u001b[0;32m      2\u001b[0m B \u001b[39m=\u001b[39m np\u001b[39m.\u001b[39marray([[\u001b[39m4\u001b[39m,\u001b[39m-\u001b[39m\u001b[39m2\u001b[39m,\u001b[39m1\u001b[39m],[\u001b[39m0\u001b[39m,\u001b[39m2\u001b[39m,\u001b[39m3\u001b[39m]])\n\u001b[0;32m      3\u001b[0m \u001b[39m# A + 3B\u001b[39;00m\n\u001b[1;32m----> 4\u001b[0m r \u001b[39m=\u001b[39m A \u001b[39m+\u001b[39;49m (B \u001b[39m*\u001b[39;49m \u001b[39m3\u001b[39;49m)\n\u001b[0;32m      5\u001b[0m \u001b[39mprint\u001b[39m(r)\n\u001b[0;32m      6\u001b[0m \u001b[39m#no se puede realizar la suma de matrices de diferentes dimensiones\u001b[39;00m\n",
      "\u001b[1;31mValueError\u001b[0m: operands could not be broadcast together with shapes (2,2) (2,3) "
     ]
    }
   ],
   "source": [
    "A = np.array([[3,0],[-1,5]])\n",
    "B = np.array([[4,-2,1],[0,2,3]])\n",
    "# A + 3B\n",
    "r = A + (B * 3)\n",
    "print(r)\n",
    "#no se puede realizar la suma de matrices de diferentes dimensiones"
   ]
  },
  {
   "cell_type": "code",
   "execution_count": 7,
   "id": "aa52c685",
   "metadata": {},
   "outputs": [
    {
     "name": "stdout",
     "output_type": "stream",
     "text": [
      "[[12 -6  3]\n",
      " [-4 12 14]]\n"
     ]
    }
   ],
   "source": [
    "# A x B\n",
    "r = A @ B\n",
    "print(r)"
   ]
  },
  {
   "cell_type": "code",
   "execution_count": 40,
   "id": "b7c20132",
   "metadata": {},
   "outputs": [
    {
     "name": "stdout",
     "output_type": "stream",
     "text": [
      "[[ 27   0]\n",
      " [-49 125]]\n"
     ]
    }
   ],
   "source": [
    "# A con potencia 3\n",
    "r = A @ A @ A\n",
    "print(r)"
   ]
  },
  {
   "cell_type": "code",
   "execution_count": 42,
   "id": "96b1389c",
   "metadata": {},
   "outputs": [
    {
     "ename": "ValueError",
     "evalue": "matmul: Input operand 1 has a mismatch in its core dimension 0, with gufunc signature (n?,k),(k,m?)->(n?,m?) (size 2 is different from 3)",
     "output_type": "error",
     "traceback": [
      "\u001b[1;31m---------------------------------------------------------------------------\u001b[0m",
      "\u001b[1;31mValueError\u001b[0m                                Traceback (most recent call last)",
      "Cell \u001b[1;32mIn[42], line 1\u001b[0m\n\u001b[1;32m----> 1\u001b[0m r \u001b[38;5;241m=\u001b[39m \u001b[43mB\u001b[49m\u001b[43m \u001b[49m\u001b[38;5;241;43m@\u001b[39;49m\u001b[43m \u001b[49m\u001b[43mB\u001b[49m\n\u001b[0;32m      2\u001b[0m \u001b[38;5;28mprint\u001b[39m(r)\n",
      "\u001b[1;31mValueError\u001b[0m: matmul: Input operand 1 has a mismatch in its core dimension 0, with gufunc signature (n?,k),(k,m?)->(n?,m?) (size 2 is different from 3)"
     ]
    }
   ],
   "source": [
    "# B con potencia 2\n",
    "r = B @ B\n",
    "print(r)\n",
    "# no se puede calcular la potencia de la matriz B porque no es una matriz cuadrada "
   ]
  },
  {
   "cell_type": "code",
   "execution_count": 43,
   "id": "81c68212",
   "metadata": {},
   "outputs": [
    {
     "name": "stdout",
     "output_type": "stream",
     "text": [
      "[[ 60 -30  15]\n",
      " [-20  60  70]]\n"
     ]
    }
   ],
   "source": [
    "# (5A)B\n",
    "r = (A * 5) @ B\n",
    "print(r)"
   ]
  },
  {
   "cell_type": "markdown",
   "id": "4c307d6e",
   "metadata": {},
   "source": [
    "Ejercicio 3"
   ]
  },
  {
   "cell_type": "code",
   "execution_count": 13,
   "id": "88cfe4c6",
   "metadata": {
    "scrolled": true
   },
   "outputs": [
    {
     "name": "stdout",
     "output_type": "stream",
     "text": [
      "[[1.2 1.3]\n",
      " [2.2 2.1]\n",
      " [4.5 4.6]]\n",
      "[[ 87.   88.9]\n",
      " [105.6 107.1]]\n",
      "Tienda 1 192.6\n",
      "Tienda 2 196.0\n"
     ]
    }
   ],
   "source": [
    "restaurantes = np.array([[30,15,4],[25,18,8]])\n",
    "tiendas = np.array([[1.2,2.2,4.5],[1.3,2.1,4.6]])\n",
    "print(tiendas.T)\n",
    "costoPorTienda = restaurantes@tiendas.T\n",
    "print(costoPorTienda)\n",
    "print(\"Tienda 1\", (costoPorTienda[0,0]+costoPorTienda[1,0]))\n",
    "print(\"Tienda 2\", (costoPorTienda[0,1]+costoPorTienda[1,1]))"
   ]
  },
  {
   "cell_type": "markdown",
   "id": "0d65bbb4",
   "metadata": {},
   "source": [
    "Ejercicio 4"
   ]
  },
  {
   "cell_type": "code",
   "execution_count": 50,
   "id": "fe69c860",
   "metadata": {},
   "outputs": [
    {
     "name": "stdout",
     "output_type": "stream",
     "text": [
      "[[1.5  1.   2.  ]\n",
      " [1.75 1.5  1.  ]]\n",
      "[[650.   462.5 ]\n",
      " [675.   406.25]]\n",
      "Camión 1112.5\n",
      "Tren 1081.25\n"
     ]
    }
   ],
   "source": [
    "almacenes = np.array([[200,75],[150,100],[100,125]])\n",
    "transportes = np.array([[1.5,1.75],[1.,1.5],[2.,1.]])\n",
    "#obtenemos la transpuesta de la matriz transportes\n",
    "print(transportes.T)\n",
    "#realizamos la multiplicacion de matrices\n",
    "costoPorAlmacen = transportes.T @ almacenes\n",
    "print(costoPorAlmacen)\n",
    "#obtenemos el costo total por transporte sumando las cantidades obtenidas por almacen\n",
    "print(\"Camión\", (costoPorAlmacen[0,0] + costoPorAlmacen[0,1]))\n",
    "print(\"Tren\", (costoPorAlmacen[1,0] + costoPorAlmacen[1,1]))"
   ]
  },
  {
   "cell_type": "markdown",
   "id": "2d220c69",
   "metadata": {},
   "source": [
    "Ejercicio 5"
   ]
  },
  {
   "cell_type": "code",
   "execution_count": 55,
   "id": "d63114e4",
   "metadata": {},
   "outputs": [
    {
     "ename": "LinAlgError",
     "evalue": "Singular matrix",
     "output_type": "error",
     "traceback": [
      "\u001b[1;31m---------------------------------------------------------------------------\u001b[0m",
      "\u001b[1;31mLinAlgError\u001b[0m                               Traceback (most recent call last)",
      "Cell \u001b[1;32mIn[55], line 3\u001b[0m\n\u001b[0;32m      1\u001b[0m A \u001b[38;5;241m=\u001b[39m np\u001b[38;5;241m.\u001b[39marray([[\u001b[38;5;241m3\u001b[39m,\u001b[38;5;241m2\u001b[39m],[\u001b[38;5;241m6\u001b[39m,\u001b[38;5;241m4\u001b[39m]])\n\u001b[0;32m      2\u001b[0m B \u001b[38;5;241m=\u001b[39m np\u001b[38;5;241m.\u001b[39marray([\u001b[38;5;241m6\u001b[39m,\u001b[38;5;241m-\u001b[39m\u001b[38;5;241m9\u001b[39m])\n\u001b[1;32m----> 3\u001b[0m C \u001b[38;5;241m=\u001b[39m \u001b[43mnp\u001b[49m\u001b[38;5;241;43m.\u001b[39;49m\u001b[43mlinalg\u001b[49m\u001b[38;5;241;43m.\u001b[39;49m\u001b[43msolve\u001b[49m\u001b[43m(\u001b[49m\u001b[43mA\u001b[49m\u001b[43m,\u001b[49m\u001b[43mB\u001b[49m\u001b[43m)\u001b[49m\n",
      "File \u001b[1;32m<__array_function__ internals>:180\u001b[0m, in \u001b[0;36msolve\u001b[1;34m(*args, **kwargs)\u001b[0m\n",
      "File \u001b[1;32mC:\\ProgramData\\anaconda3\\lib\\site-packages\\numpy\\linalg\\linalg.py:400\u001b[0m, in \u001b[0;36msolve\u001b[1;34m(a, b)\u001b[0m\n\u001b[0;32m    398\u001b[0m signature \u001b[38;5;241m=\u001b[39m \u001b[38;5;124m'\u001b[39m\u001b[38;5;124mDD->D\u001b[39m\u001b[38;5;124m'\u001b[39m \u001b[38;5;28;01mif\u001b[39;00m isComplexType(t) \u001b[38;5;28;01melse\u001b[39;00m \u001b[38;5;124m'\u001b[39m\u001b[38;5;124mdd->d\u001b[39m\u001b[38;5;124m'\u001b[39m\n\u001b[0;32m    399\u001b[0m extobj \u001b[38;5;241m=\u001b[39m get_linalg_error_extobj(_raise_linalgerror_singular)\n\u001b[1;32m--> 400\u001b[0m r \u001b[38;5;241m=\u001b[39m \u001b[43mgufunc\u001b[49m\u001b[43m(\u001b[49m\u001b[43ma\u001b[49m\u001b[43m,\u001b[49m\u001b[43m \u001b[49m\u001b[43mb\u001b[49m\u001b[43m,\u001b[49m\u001b[43m \u001b[49m\u001b[43msignature\u001b[49m\u001b[38;5;241;43m=\u001b[39;49m\u001b[43msignature\u001b[49m\u001b[43m,\u001b[49m\u001b[43m \u001b[49m\u001b[43mextobj\u001b[49m\u001b[38;5;241;43m=\u001b[39;49m\u001b[43mextobj\u001b[49m\u001b[43m)\u001b[49m\n\u001b[0;32m    402\u001b[0m \u001b[38;5;28;01mreturn\u001b[39;00m wrap(r\u001b[38;5;241m.\u001b[39mastype(result_t, copy\u001b[38;5;241m=\u001b[39m\u001b[38;5;28;01mFalse\u001b[39;00m))\n",
      "File \u001b[1;32mC:\\ProgramData\\anaconda3\\lib\\site-packages\\numpy\\linalg\\linalg.py:89\u001b[0m, in \u001b[0;36m_raise_linalgerror_singular\u001b[1;34m(err, flag)\u001b[0m\n\u001b[0;32m     88\u001b[0m \u001b[38;5;28;01mdef\u001b[39;00m \u001b[38;5;21m_raise_linalgerror_singular\u001b[39m(err, flag):\n\u001b[1;32m---> 89\u001b[0m     \u001b[38;5;28;01mraise\u001b[39;00m LinAlgError(\u001b[38;5;124m\"\u001b[39m\u001b[38;5;124mSingular matrix\u001b[39m\u001b[38;5;124m\"\u001b[39m)\n",
      "\u001b[1;31mLinAlgError\u001b[0m: Singular matrix"
     ]
    }
   ],
   "source": [
    "#3x + 2y = 6\n",
    "#6x + 4y = -9\n",
    "A = np.array([[3,2],[6,4]])\n",
    "B = np.array([6,-9])\n",
    "C = np.linalg.solve(A,B)\n",
    "#Este sistema de ecuaciones no tiene solucion"
   ]
  },
  {
   "cell_type": "code",
   "execution_count": 57,
   "id": "a5e5af77",
   "metadata": {},
   "outputs": [
    {
     "name": "stdout",
     "output_type": "stream",
     "text": [
      "[2.6 0.4]\n",
      "[3. 1.]\n"
     ]
    }
   ],
   "source": [
    "#x + y = 3\n",
    "#x - 4y = 1\n",
    "A = np.array([[1,1],[1,-4]])\n",
    "B = np.array([3,1])\n",
    "C = np.linalg.solve(A,B)\n",
    "print(C)\n",
    "#Comprobando el resultado\n",
    "print(A @ C)"
   ]
  },
  {
   "cell_type": "code",
   "execution_count": 8,
   "id": "f784f966",
   "metadata": {},
   "outputs": [
    {
     "name": "stdout",
     "output_type": "stream",
     "text": [
      "[ 3.65217391 -3.7826087  -4.04347826]\n",
      "[ 3.0000000e+00  8.8817842e-16 -1.2000000e+01]\n"
     ]
    }
   ],
   "source": [
    "#2x − y + 2z = 3\n",
    "#2x + 3y − z = 0\n",
    "#x + 2y + 2z = −12\n",
    "A = np.array([[2,-1,2],[2,3,-1],[1,2,2]])\n",
    "B = np.array([3,0,-12])\n",
    "C = np.linalg.solve(A,B)\n",
    "print(C)\n",
    "#Comprobando el resultado\n",
    "R = A @ C\n",
    "print(R[:].astype(np.float64))"
   ]
  }
 ],
 "metadata": {
  "kernelspec": {
   "display_name": "Python 3 (ipykernel)",
   "language": "python",
   "name": "python3"
  },
  "language_info": {
   "codemirror_mode": {
    "name": "ipython",
    "version": 3
   },
   "file_extension": ".py",
   "mimetype": "text/x-python",
   "name": "python",
   "nbconvert_exporter": "python",
   "pygments_lexer": "ipython3",
   "version": "3.11.3"
  }
 },
 "nbformat": 4,
 "nbformat_minor": 5
}
